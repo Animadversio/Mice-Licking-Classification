{
 "cells": [
  {
   "cell_type": "code",
   "execution_count": 44,
   "metadata": {},
   "outputs": [],
   "source": [
    "import os \n",
    "from os.path import join\n",
    "from tqdm import tqdm\n",
    "import pandas as pd\n",
    "import numpy as np\n",
    "import matplotlib.pyplot as plt\n",
    "import seaborn as sns\n",
    "from neural_data_loading import rootdir, dataroot, load_data"
   ]
  },
  {
   "cell_type": "code",
   "execution_count": 45,
   "metadata": {},
   "outputs": [],
   "source": [
    "figroot = join(rootdir, 'Figures')"
   ]
  },
  {
   "cell_type": "code",
   "execution_count": 46,
   "metadata": {},
   "outputs": [
    {
     "data": {
      "text/plain": [
       "['confmat_20220804-Shijia-M009-D12-4-50-L-IRt_g0_XYMatrixForGLM_beforeQC_allLickBouts_5msbin_allmethod_avg_multi_ms_tab.csv',\n",
       " 'confmat_20220804-Shijia-M009-D12-4-50-L-IRt_g0_XYMatrixForGLM_beforeQC_allLickBouts_5msbin_dart_avg_multi_ms_tab_firstbouty.csv',\n",
       " 'confmat_20220804-Shijia-M009-D12-4-50-L-IRt_g0_XYMatrixForGLM_beforeQC_allLickBouts_5msbin_logregress_avg_multi_ms_tab_firstbouty.csv',\n",
       " 'confmat_20220804-Shijia-M009-D12-4-50-L-IRt_g0_XYMatrixForGLM_beforeQC_allLickBouts_5msbin_gbtree_avg_multi_ms_tab_firstbouty.csv',\n",
       " 'confmat_20220804-Shijia-M009-D12-4-50-L-IRt_g0_XYMatrixForGLM_beforeQC_allLickBouts_5msbin_gbtree_avg_multi_ms_tab_allbouty.csv',\n",
       " 'confmat_20220804-Shijia-M009-D12-4-50-L-IRt_g0_XYMatrixForGLM_beforeQC_allLickBouts_5msbin_logregress_avg_multi_ms_tab_allbouty.csv',\n",
       " 'confmat_20220804-Shijia-M009-D12-4-50-L-IRt_g0_XYMatrixForGLM_beforeQC_allLickBouts_5msbin_gblinear_avg_multi_ms_tab_allbouty.csv',\n",
       " 'confmat_20220804-Shijia-M009-D12-4-50-L-IRt_g0_XYMatrixForGLM_beforeQC_allLickBouts_5msbin_dart_avg_multi_ms_tab_allbouty.csv',\n",
       " 'confmat_20220804-Shijia-M009-D12-4-50-L-IRt_g0_XYMatrixForGLM_beforeQC_allLickBouts_5msbin_gblinear_avg_multi_ms_tab_firstbouty.csv']"
      ]
     },
     "execution_count": 46,
     "metadata": {},
     "output_type": "execute_result"
    }
   ],
   "source": [
    "os.listdir(join(figroot, \n",
    "    '20220804-Shijia-M009-D12-4-50-L-IRt_g0_XYMatrixForGLM_beforeQC_allLickBouts_5msbin'))"
   ]
  },
  {
   "cell_type": "code",
   "execution_count": 12,
   "metadata": {},
   "outputs": [
    {
     "data": {
      "text/plain": [
       "['20220804-Shijia-M009-D12-4-50-L-IRt_g0_XYMatrixForGLM_beforeQC_allLickBouts_5msbin',\n",
       " '20220809-Shijia-M012-D15-4-50-L-IRt_g0_XYMatrixForGLM_beforeQC_allLickBouts_5msbin',\n",
       " '20220825-Shijia-M012-D29-4-50-L-PCRt_g0_XYMatrixForGLM_beforeQC_allLickBouts_5msbin',\n",
       " '20220905-Shijia-M010-D38-4-50-L-IRt_g1_XYMatrixForGLM_beforeQC_allLickBouts_5msbin',\n",
       " '20220909-Shijia-M012-D42-4-50-L-PCRt_g0_XYMatrixForGLM_beforeQC_allLickBouts_5msbin',\n",
       " '20240108_M175_4W50_g0_XYMatrixForGLM_beforeQC_allLickBouts_5msbin']"
      ]
     },
     "execution_count": 12,
     "metadata": {},
     "output_type": "execute_result"
    }
   ],
   "source": [
    "# find list all folders in the `dataroot`, excluding files\n",
    "exp_labels = os.listdir(dataroot)\n",
    "exp_labels = sorted([f for f in exp_labels if os.path.isdir(join(dataroot, f))])\n",
    "exp_labels"
   ]
  },
  {
   "cell_type": "code",
   "execution_count": 66,
   "metadata": {},
   "outputs": [
    {
     "name": "stdout",
     "output_type": "stream",
     "text": [
      "20220804-Shijia-M009-D12-4-50-L-IRt_g0_XYMatrixForGLM_beforeQC_allLickBouts_5msbin\n",
      "File exists\n",
      "20220809-Shijia-M012-D15-4-50-L-IRt_g0_XYMatrixForGLM_beforeQC_allLickBouts_5msbin\n",
      "File exists\n",
      "20220825-Shijia-M012-D29-4-50-L-PCRt_g0_XYMatrixForGLM_beforeQC_allLickBouts_5msbin\n",
      "File exists\n",
      "20220905-Shijia-M010-D38-4-50-L-IRt_g1_XYMatrixForGLM_beforeQC_allLickBouts_5msbin\n",
      "File exists\n",
      "20220909-Shijia-M012-D42-4-50-L-PCRt_g0_XYMatrixForGLM_beforeQC_allLickBouts_5msbin\n",
      "File exists\n",
      "20240108_M175_4W50_g0_XYMatrixForGLM_beforeQC_allLickBouts_5msbin\n"
     ]
    }
   ],
   "source": [
    "for exp_label in exp_labels[:]:\n",
    "    print(exp_label)\n",
    "    # confirm the file exists\n",
    "    if os.path.exists(join(figroot, exp_label, f'confmat_{exp_label}_allmethod_avg_multi_ms_tab.csv')):\n",
    "        print('File exists')\n",
    "        continue\n",
    "    # df_all = pd.read_csv(join(figroot, exp_label, f'confmat_{exp_label}_allmethod_avg_multi_ms_tab.csv'))"
   ]
  },
  {
   "cell_type": "code",
   "execution_count": 15,
   "metadata": {},
   "outputs": [
    {
     "data": {
      "text/plain": [
       "(1840, 15)"
      ]
     },
     "execution_count": 15,
     "metadata": {},
     "output_type": "execute_result"
    }
   ],
   "source": [
    "df_all.shape"
   ]
  },
  {
   "cell_type": "code",
   "execution_count": 30,
   "metadata": {},
   "outputs": [],
   "source": [
    "\n",
    "# Set the maximum width for pandas printing\n",
    "pd.set_option('display.max_columns', None)\n",
    "pd.set_option('display.max_colwidth', 100)\n",
    "pd.set_option('display.max_columns', 100)\n",
    "pd.set_option('display.width', 1000)\n",
    "\n",
    "\n"
   ]
  },
  {
   "cell_type": "markdown",
   "metadata": {},
   "source": [
    "### Medulla Recording Session "
   ]
  },
  {
   "cell_type": "code",
   "execution_count": 61,
   "metadata": {},
   "outputs": [
    {
     "name": "stdout",
     "output_type": "stream",
     "text": [
      "==========================================================================\n",
      "20220804-Shijia-M009-D12-4-50-L-IRt_g0_XYMatrixForGLM_beforeQC_allLickBouts_5msbin\n",
      "First bout only:  True\n",
      "      time_beg  time_end            data_str model_str  acc_test   tp_test                  cm_test\n",
      "1305       140       200   20ms_from_7_3bins    gbtree  0.969649  0.800000  [[603   1]\\n [ 18   4]]\n",
      "1535       140       200   20ms_from_7_3bins      dart  0.969649  0.800000  [[603   1]\\n [ 18   4]]\n",
      "1324        75       150   25ms_from_3_3bins    gbtree  0.968051  1.000000  [[604   0]\\n [ 20   2]]\n",
      "1301       100       200   20ms_from_5_5bins    gbtree  0.968051  0.750000  [[603   1]\\n [ 19   3]]\n",
      "1554        75       150   25ms_from_3_3bins      dart  0.968051  1.000000  [[604   0]\\n [ 20   2]]\n",
      "1310         0       200  20ms_from_0_10bins    gbtree  0.968051  1.000000  [[604   0]\\n [ 20   2]]\n",
      "1531       100       200   20ms_from_5_5bins      dart  0.968051  0.750000  [[603   1]\\n [ 19   3]]\n",
      "1540         0       200  20ms_from_0_10bins      dart  0.968051  1.000000  [[604   0]\\n [ 20   2]]\n",
      "1281        60        80   20ms_from_3_1bins    gbtree  0.966454  1.000000  [[604   0]\\n [ 21   1]]\n",
      "1234        60        75   15ms_from_4_1bins    gbtree  0.966454  1.000000  [[604   0]\\n [ 21   1]]\n",
      "1237       105       120   15ms_from_7_1bins    gbtree  0.966454  1.000000  [[604   0]\\n [ 21   1]]\n",
      "1340       150       180   30ms_from_5_1bins    gbtree  0.966454  0.666667  [[603   1]\\n [ 20   2]]\n",
      "1338        90       120   30ms_from_3_1bins    gbtree  0.966454  1.000000  [[604   0]\\n [ 21   1]]\n",
      "1546       125       150   25ms_from_5_1bins      dart  0.966454  1.000000  [[604   0]\\n [ 21   1]]\n",
      "1245        60        90   15ms_from_4_2bins    gbtree  0.966454  1.000000  [[604   0]\\n [ 21   1]]\n",
      "1538         0       180   20ms_from_0_9bins      dart  0.966454  1.000000  [[604   0]\\n [ 21   1]]\n",
      "1321       100       150   25ms_from_4_2bins    gbtree  0.966454  1.000000  [[604   0]\\n [ 21   1]]\n",
      "1533       120       200   20ms_from_6_4bins      dart  0.966454  0.666667  [[603   1]\\n [ 20   2]]\n",
      "1570       150       180   30ms_from_5_1bins      dart  0.966454  0.666667  [[603   1]\\n [ 20   2]]\n",
      "1316       125       150   25ms_from_5_1bins    gbtree  0.966454  1.000000  [[604   0]\\n [ 21   1]]\n",
      "1464        60        75   15ms_from_4_1bins      dart  0.966454  1.000000  [[604   0]\\n [ 21   1]]\n",
      "1467       105       120   15ms_from_7_1bins      dart  0.966454  1.000000  [[604   0]\\n [ 21   1]]\n",
      "1475        60        90   15ms_from_4_2bins      dart  0.966454  1.000000  [[604   0]\\n [ 21   1]]\n",
      "1511        60        80   20ms_from_3_1bins      dart  0.966454  1.000000  [[604   0]\\n [ 21   1]]\n",
      "1308         0       180   20ms_from_0_9bins    gbtree  0.966454  1.000000  [[604   0]\\n [ 21   1]]\n",
      "20220804-Shijia-M009-D12-4-50-L-IRt_g0_XYMatrixForGLM_beforeQC_allLickBouts_5msbin\n",
      "First bout only:  False\n",
      "     time_beg  time_end            data_str model_str  acc_test   tp_test                  cm_test\n",
      "619       180       200   20ms_from_9_1bins      dart  0.904153  0.739130  [[549   6]\\n [ 54  17]]\n",
      "367       180       200   20ms_from_9_1bins    gbtree  0.904153  0.739130  [[549   6]\\n [ 54  17]]\n",
      "615       140       200   20ms_from_7_3bins      dart  0.904153  0.789474  [[551   4]\\n [ 56  15]]\n",
      "385       140       200   20ms_from_7_3bins    gbtree  0.904153  0.789474  [[551   4]\\n [ 56  15]]\n",
      "389       180       200   20ms_from_9_1bins    gbtree  0.904153  0.739130  [[549   6]\\n [ 54  17]]\n",
      "606       180       200   20ms_from_9_1bins      dart  0.904153  0.739130  [[549   6]\\n [ 54  17]]\n",
      "376       180       200   20ms_from_9_1bins    gbtree  0.904153  0.739130  [[549   6]\\n [ 54  17]]\n",
      "597       180       200   20ms_from_9_1bins      dart  0.904153  0.739130  [[549   6]\\n [ 54  17]]\n",
      "632       150       200   25ms_from_6_2bins      dart  0.902556  0.678571  [[546   9]\\n [ 52  19]]\n",
      "635       150       200   25ms_from_6_2bins      dart  0.902556  0.678571  [[546   9]\\n [ 52  19]]\n",
      "641       150       200   25ms_from_6_2bins      dart  0.902556  0.678571  [[546   9]\\n [ 52  19]]\n",
      "414         0       200   25ms_from_0_8bins    gbtree  0.902556  0.777778  [[551   4]\\n [ 57  14]]\n",
      "644         0       200   25ms_from_0_8bins      dart  0.902556  0.777778  [[551   4]\\n [ 57  14]]\n",
      "411       150       200   25ms_from_6_2bins    gbtree  0.902556  0.678571  [[546   9]\\n [ 52  19]]\n",
      "687       100       200  100ms_from_1_1bins      dart  0.902556  0.750000  [[550   5]\\n [ 56  15]]\n",
      "620         0       200  20ms_from_0_10bins      dart  0.902556  0.812500  [[552   3]\\n [ 58  13]]\n",
      "390         0       200  20ms_from_0_10bins    gbtree  0.902556  0.812500  [[552   3]\\n [ 58  13]]\n",
      "405       150       200   25ms_from_6_2bins    gbtree  0.902556  0.678571  [[546   9]\\n [ 52  19]]\n",
      "402       150       200   25ms_from_6_2bins    gbtree  0.902556  0.678571  [[546   9]\\n [ 52  19]]\n",
      "457       100       200  100ms_from_1_1bins    gbtree  0.902556  0.750000  [[550   5]\\n [ 56  15]]\n",
      "450         0       150   50ms_from_0_3bins    gbtree  0.900958  0.764706  [[551   4]\\n [ 58  13]]\n",
      "458         0       200  100ms_from_0_2bins    gbtree  0.900958  0.736842  [[550   5]\\n [ 57  14]]\n",
      "680         0       150   50ms_from_0_3bins      dart  0.900958  0.764706  [[551   4]\\n [ 58  13]]\n",
      "688         0       200  100ms_from_0_2bins      dart  0.900958  0.736842  [[550   5]\\n [ 57  14]]\n",
      "452         0       200   50ms_from_0_4bins    gbtree  0.899361  0.722222  [[550   5]\\n [ 58  13]]\n"
     ]
    }
   ],
   "source": [
    "exp_label = exp_labels[0]\n",
    "print(\"=====================================\"*2)\n",
    "df_all = pd.read_csv(join(figroot, exp_label, f'confmat_{exp_label}_allmethod_avg_multi_ms_tab.csv'))\n",
    "for first_only in [True, False]: \n",
    "    print(exp_label)\n",
    "    print(\"First bout only: \", first_only)\n",
    "    print(df_all[df_all.only_firstbout_y==first_only].\\\n",
    "        sort_values(by='acc_test', ascending=False)[\\\n",
    "            [\"time_beg\", \"time_end\", \"data_str\", \"model_str\", \"acc_test\", \"tp_test\", \"cm_test\"]].\\\n",
    "                head(25))"
   ]
  },
  {
   "cell_type": "code",
   "execution_count": 62,
   "metadata": {},
   "outputs": [
    {
     "name": "stdout",
     "output_type": "stream",
     "text": [
      "==========================================================================\n",
      "20220809-Shijia-M012-D15-4-50-L-IRt_g0_XYMatrixForGLM_beforeQC_allLickBouts_5msbin\n",
      "First bout only:  True\n",
      "      time_beg  time_end            data_str   model_str  acc_test   tp_test                  cm_test\n",
      "1350         0       180   30ms_from_0_6bins      gbtree  0.931959  0.857143  [[446   1]\\n [ 32   6]]\n",
      "1580         0       180   30ms_from_0_6bins        dart  0.931959  0.857143  [[446   1]\\n [ 32   6]]\n",
      "1267         0       120   15ms_from_0_8bins      gbtree  0.929897  1.000000  [[447   0]\\n [ 34   4]]\n",
      "1305       140       200   20ms_from_7_3bins      gbtree  0.929897  1.000000  [[447   0]\\n [ 34   4]]\n",
      "1535       140       200   20ms_from_7_3bins        dart  0.929897  1.000000  [[447   0]\\n [ 34   4]]\n",
      "1737         0       195  15ms_from_0_13bins  logregress  0.929897  0.642857  [[442   5]\\n [ 29   9]]\n",
      "1505         0       180  15ms_from_0_12bins        dart  0.929897  1.000000  [[447   0]\\n [ 34   4]]\n",
      "1275         0       180  15ms_from_0_12bins      gbtree  0.929897  1.000000  [[447   0]\\n [ 34   4]]\n",
      "1497         0       120   15ms_from_0_8bins        dart  0.929897  1.000000  [[447   0]\\n [ 34   4]]\n",
      "1794         0       200   25ms_from_0_8bins  logregress  0.929897  0.600000  [[439   8]\\n [ 26  12]]\n",
      "1770         0       200  20ms_from_0_10bins  logregress  0.929897  0.611111  [[440   7]\\n [ 27  11]]\n",
      "1579       150       180   30ms_from_5_1bins        dart  0.927835  1.000000  [[447   0]\\n [ 35   3]]\n",
      "1251        45        90   15ms_from_3_3bins      gbtree  0.927835  1.000000  [[447   0]\\n [ 35   3]]\n",
      "1366       100       150   50ms_from_2_1bins      gbtree  0.927835  1.000000  [[447   0]\\n [ 35   3]]\n",
      "1526       180       200   20ms_from_9_1bins        dart  0.927835  1.000000  [[447   0]\\n [ 35   3]]\n",
      "1452       160       200  10ms_from_16_4bins        dart  0.927835  1.000000  [[447   0]\\n [ 35   3]]\n",
      "1287       180       200   20ms_from_9_1bins      gbtree  0.927835  1.000000  [[447   0]\\n [ 35   3]]\n",
      "1340       150       180   30ms_from_5_1bins      gbtree  0.927835  1.000000  [[447   0]\\n [ 35   3]]\n",
      "1570       150       180   30ms_from_5_1bins        dart  0.927835  1.000000  [[447   0]\\n [ 35   3]]\n",
      "1600         0       150   50ms_from_0_3bins        dart  0.927835  0.800000  [[446   1]\\n [ 34   4]]\n",
      "1435       160       200  10ms_from_16_4bins        dart  0.927835  1.000000  [[447   0]\\n [ 35   3]]\n",
      "1365        50       100   50ms_from_1_1bins      gbtree  0.927835  1.000000  [[447   0]\\n [ 35   3]]\n",
      "1517       180       200   20ms_from_9_1bins        dart  0.927835  1.000000  [[447   0]\\n [ 35   3]]\n",
      "1552       150       200   25ms_from_6_2bins        dart  0.927835  0.800000  [[446   1]\\n [ 34   4]]\n",
      "1322       150       200   25ms_from_6_2bins      gbtree  0.927835  0.800000  [[446   1]\\n [ 34   4]]\n",
      "20220809-Shijia-M012-D15-4-50-L-IRt_g0_XYMatrixForGLM_beforeQC_allLickBouts_5msbin\n",
      "First bout only:  False\n",
      "     time_beg  time_end            data_str   model_str  acc_test   tp_test                  cm_test\n",
      "769         0       200  10ms_from_0_20bins  logregress  0.921649  0.736842  [[433   5]\\n [ 33  14]]\n",
      "305         0       180  10ms_from_0_18bins      gbtree  0.917526  0.888889  [[437   1]\\n [ 39   8]]\n",
      "535         0       180  10ms_from_0_18bins        dart  0.917526  0.888889  [[437   1]\\n [ 39   8]]\n",
      "441         0       160   40ms_from_0_4bins      gbtree  0.917526  0.888889  [[437   1]\\n [ 39   8]]\n",
      "385       140       200   20ms_from_7_3bins      gbtree  0.917526  0.888889  [[437   1]\\n [ 39   8]]\n",
      "679       100       200   50ms_from_2_2bins        dart  0.917526  0.818182  [[436   2]\\n [ 38   9]]\n",
      "615       140       200   20ms_from_7_3bins        dart  0.917526  0.888889  [[437   1]\\n [ 39   8]]\n",
      "767         0       190  10ms_from_0_19bins  logregress  0.917526  0.684211  [[432   6]\\n [ 34  13]]\n",
      "644         0       200   25ms_from_0_8bins        dart  0.917526  0.888889  [[437   1]\\n [ 39   8]]\n",
      "449       100       200   50ms_from_2_2bins      gbtree  0.917526  0.818182  [[436   2]\\n [ 38   9]]\n",
      "671         0       160   40ms_from_0_4bins        dart  0.917526  0.888889  [[437   1]\\n [ 39   8]]\n",
      "414         0       200   25ms_from_0_8bins      gbtree  0.917526  0.888889  [[437   1]\\n [ 39   8]]\n",
      "585         0       180  15ms_from_0_12bins        dart  0.915464  1.000000  [[438   0]\\n [ 41   6]]\n",
      "275       150       200  10ms_from_15_5bins      gbtree  0.915464  0.800000  [[436   2]\\n [ 39   8]]\n",
      "450         0       150   50ms_from_0_3bins      gbtree  0.915464  0.875000  [[437   1]\\n [ 40   7]]\n",
      "680         0       150   50ms_from_0_3bins        dart  0.915464  0.875000  [[437   1]\\n [ 40   7]]\n",
      "670       120       200   40ms_from_3_2bins        dart  0.915464  0.875000  [[437   1]\\n [ 40   7]]\n",
      "440       120       200   40ms_from_3_2bins      gbtree  0.915464  0.875000  [[437   1]\\n [ 40   7]]\n",
      "300       150       200  10ms_from_15_5bins      gbtree  0.915464  0.800000  [[436   2]\\n [ 39   8]]\n",
      "505       150       200  10ms_from_15_5bins        dart  0.915464  0.800000  [[436   2]\\n [ 39   8]]\n",
      "355         0       180  15ms_from_0_12bins      gbtree  0.915464  1.000000  [[438   0]\\n [ 41   6]]\n",
      "530       150       200  10ms_from_15_5bins        dart  0.915464  0.800000  [[436   2]\\n [ 39   8]]\n",
      "673         0       200   40ms_from_0_5bins        dart  0.913402  0.777778  [[436   2]\\n [ 40   7]]\n",
      "813         0       165  15ms_from_0_11bins  logregress  0.913402  0.631579  [[431   7]\\n [ 35  12]]\n",
      "668       160       200   40ms_from_4_1bins        dart  0.913402  0.727273  [[435   3]\\n [ 39   8]]\n"
     ]
    }
   ],
   "source": [
    "exp_label = exp_labels[1]\n",
    "print(\"=====================================\"*2)\n",
    "df_all = pd.read_csv(join(figroot, exp_label, f'confmat_{exp_label}_allmethod_avg_multi_ms_tab.csv'))\n",
    "for first_only in [True, False]: \n",
    "    print(exp_label)\n",
    "    print(\"First bout only: \", first_only)\n",
    "    print(df_all[df_all.only_firstbout_y==first_only].\\\n",
    "        sort_values(by='acc_test', ascending=False)[\\\n",
    "            [\"time_beg\", \"time_end\", \"data_str\", \"model_str\", \"acc_test\", \"tp_test\", \"cm_test\"]].\\\n",
    "                head(25))"
   ]
  },
  {
   "cell_type": "code",
   "execution_count": 65,
   "metadata": {},
   "outputs": [
    {
     "name": "stdout",
     "output_type": "stream",
     "text": [
      "==========================================================================\n",
      "20220825-Shijia-M012-D29-4-50-L-PCRt_g0_XYMatrixForGLM_beforeQC_allLickBouts_5msbin\n",
      "First bout only:  True\n",
      "      time_beg  time_end            data_str   model_str  acc_test   tp_test                  cm_test\n",
      "1271         0       150  15ms_from_0_10bins      gbtree  0.957717  0.888889  [[874   4]\\n [ 36  32]]\n",
      "1501         0       150  15ms_from_0_10bins        dart  0.957717  0.888889  [[874   4]\\n [ 36  32]]\n",
      "1687         0       190  10ms_from_0_19bins  logregress  0.955603  0.671053  [[853  25]\\n [ 17  51]]\n",
      "1269         0       135   15ms_from_0_9bins      gbtree  0.955603  0.906250  [[875   3]\\n [ 39  29]]\n",
      "1499         0       135   15ms_from_0_9bins        dart  0.955603  0.906250  [[875   3]\\n [ 39  29]]\n",
      "1560         0       150   25ms_from_0_6bins        dart  0.954545  0.790698  [[869   9]\\n [ 34  34]]\n",
      "1330         0       150   25ms_from_0_6bins      gbtree  0.954545  0.790698  [[869   9]\\n [ 34  34]]\n",
      "1556         0       100   25ms_from_0_4bins        dart  0.953488  0.852941  [[873   5]\\n [ 39  29]]\n",
      "1326         0       100   25ms_from_0_4bins      gbtree  0.953488  0.852941  [[873   5]\\n [ 39  29]]\n",
      "1304         0       140   20ms_from_0_7bins      gbtree  0.953488  0.900000  [[875   3]\\n [ 41  27]]\n",
      "1534         0       140   20ms_from_0_7bins        dart  0.953488  0.900000  [[875   3]\\n [ 41  27]]\n",
      "1532         0       120   20ms_from_0_6bins        dart  0.952431  0.848485  [[873   5]\\n [ 40  28]]\n",
      "1562         0       175   25ms_from_0_7bins        dart  0.952431  0.848485  [[873   5]\\n [ 40  28]]\n",
      "1302         0       120   20ms_from_0_6bins      gbtree  0.952431  0.848485  [[873   5]\\n [ 40  28]]\n",
      "1332         0       175   25ms_from_0_7bins      gbtree  0.952431  0.848485  [[873   5]\\n [ 40  28]]\n",
      "1538         0       180   20ms_from_0_9bins        dart  0.951374  0.805556  [[871   7]\\n [ 39  29]]\n",
      "1683         0       170  10ms_from_0_17bins  logregress  0.951374  0.652778  [[853  25]\\n [ 21  47]]\n",
      "1564         0       200   25ms_from_0_8bins        dart  0.951374  0.789474  [[870   8]\\n [ 38  30]]\n",
      "1334         0       200   25ms_from_0_8bins      gbtree  0.951374  0.789474  [[870   8]\\n [ 38  30]]\n",
      "1503         0       165  15ms_from_0_11bins        dart  0.951374  0.866667  [[874   4]\\n [ 42  26]]\n",
      "1308         0       180   20ms_from_0_9bins      gbtree  0.951374  0.805556  [[871   7]\\n [ 39  29]]\n",
      "1273         0       165  15ms_from_0_11bins      gbtree  0.951374  0.866667  [[874   4]\\n [ 42  26]]\n",
      "1530         0       100   20ms_from_0_5bins        dart  0.950317  0.818182  [[872   6]\\n [ 41  27]]\n",
      "1363         0       200   40ms_from_0_5bins      gbtree  0.950317  0.783784  [[870   8]\\n [ 39  29]]\n",
      "1306         0       160   20ms_from_0_8bins      gbtree  0.950317  0.783784  [[870   8]\\n [ 39  29]]\n",
      "20220825-Shijia-M012-D29-4-50-L-PCRt_g0_XYMatrixForGLM_beforeQC_allLickBouts_5msbin\n",
      "First bout only:  False\n",
      "     time_beg  time_end            data_str   model_str  acc_test   tp_test                  cm_test\n",
      "817         0       195  15ms_from_0_13bins  logregress  0.948203  0.712500  [[840  23]\\n [ 26  57]]\n",
      "769         0       200  10ms_from_0_20bins  logregress  0.947146  0.726027  [[843  20]\\n [ 30  53]]\n",
      "763         0       170  10ms_from_0_17bins  logregress  0.946089  0.700000  [[839  24]\\n [ 27  56]]\n",
      "767         0       190  10ms_from_0_19bins  logregress  0.943975  0.674419  [[835  28]\\n [ 25  58]]\n",
      "390         0       200  20ms_from_0_10bins      gbtree  0.942918  0.837209  [[856   7]\\n [ 47  36]]\n",
      "850         0       200  20ms_from_0_10bins  logregress  0.942918  0.674699  [[836  27]\\n [ 27  56]]\n",
      "671         0       160   40ms_from_0_4bins        dart  0.942918  0.871795  [[858   5]\\n [ 49  34]]\n",
      "620         0       200  20ms_from_0_10bins        dart  0.942918  0.837209  [[856   7]\\n [ 47  36]]\n",
      "441         0       160   40ms_from_0_4bins      gbtree  0.942918  0.871795  [[858   5]\\n [ 49  34]]\n",
      "618         0       180   20ms_from_0_9bins        dart  0.940803  0.829268  [[856   7]\\n [ 49  34]]\n",
      "388         0       180   20ms_from_0_9bins      gbtree  0.940803  0.829268  [[856   7]\\n [ 49  34]]\n",
      "581         0       150  15ms_from_0_10bins        dart  0.939746  0.861111  [[858   5]\\n [ 52  31]]\n",
      "638         0       125   25ms_from_0_5bins        dart  0.939746  0.825000  [[856   7]\\n [ 50  33]]\n",
      "815         0       180  15ms_from_0_12bins  logregress  0.939746  0.671053  [[838  25]\\n [ 32  51]]\n",
      "351         0       150  15ms_from_0_10bins      gbtree  0.939746  0.861111  [[858   5]\\n [ 52  31]]\n",
      "616         0       160   20ms_from_0_8bins        dart  0.939746  0.842105  [[857   6]\\n [ 51  32]]\n",
      "386         0       160   20ms_from_0_8bins      gbtree  0.939746  0.842105  [[857   6]\\n [ 51  32]]\n",
      "408         0       125   25ms_from_0_5bins      gbtree  0.939746  0.825000  [[856   7]\\n [ 50  33]]\n",
      "761         0       160  10ms_from_0_16bins  logregress  0.939746  0.675676  [[839  24]\\n [ 33  50]]\n",
      "603         0        60   20ms_from_0_3bins        dart  0.938689  0.903226  [[860   3]\\n [ 55  28]]\n",
      "848         0       180   20ms_from_0_9bins  logregress  0.938689  0.647059  [[833  30]\\n [ 28  55]]\n",
      "373         0        60   20ms_from_0_3bins      gbtree  0.938689  0.903226  [[860   3]\\n [ 55  28]]\n",
      "765         0       180  10ms_from_0_18bins  logregress  0.938689  0.637363  [[830  33]\\n [ 25  58]]\n",
      "874         0       200   25ms_from_0_8bins  logregress  0.938689  0.650602  [[834  29]\\n [ 29  54]]\n",
      "658         0       150   30ms_from_0_5bins        dart  0.937632  0.852941  [[858   5]\\n [ 54  29]]\n"
     ]
    }
   ],
   "source": [
    "exp_label = exp_labels[2]\n",
    "print(\"=====================================\"*2)\n",
    "df_all = pd.read_csv(join(figroot, exp_label, f'confmat_{exp_label}_allmethod_avg_multi_ms_tab.csv'))\n",
    "for first_only in [True, False]: \n",
    "    print(exp_label)\n",
    "    print(\"First bout only: \", first_only)\n",
    "    print(df_all[df_all.only_firstbout_y==first_only].\\\n",
    "        sort_values(by='acc_test', ascending=False)[\\\n",
    "            [\"time_beg\", \"time_end\", \"data_str\", \"model_str\", \"acc_test\", \"tp_test\", \"cm_test\"]].\\\n",
    "                head(25))"
   ]
  },
  {
   "cell_type": "markdown",
   "metadata": {},
   "source": [
    "'20220825-Shijia-M012-D29-4-50-L-PCRt_g0_XYMatrixForGLM_beforeQC_allLickBouts_5msbin'"
   ]
  },
  {
   "cell_type": "code",
   "execution_count": 57,
   "metadata": {},
   "outputs": [
    {
     "name": "stdout",
     "output_type": "stream",
     "text": [
      "==========================================================================\n",
      "20220825-Shijia-M012-D29-4-50-L-PCRt_g0_XYMatrixForGLM_beforeQC_allLickBouts_5msbin\n",
      "First bout only:  False\n",
      "      time_beg  time_end            data_str   model_str  acc_test   tp_test                  cm_test\n",
      "749          0       150  15ms_from_0_10bins        dart  0.957717  0.888889  [[874   4]\\n [ 36  32]]\n",
      "320          0       150  15ms_from_0_10bins      gbtree  0.957717  0.888889  [[874   4]\\n [ 36  32]]\n",
      "1445         0       180   20ms_from_0_9bins  logregress  0.956660  0.829268  [[871   7]\\n [ 34  34]]\n",
      "1469         0       175   25ms_from_0_7bins  logregress  0.955603  0.861111  [[873   5]\\n [ 37  31]]\n",
      "318          0       135   15ms_from_0_9bins      gbtree  0.955603  0.906250  [[875   3]\\n [ 39  29]]\n",
      "747          0       135   15ms_from_0_9bins        dart  0.955603  0.906250  [[875   3]\\n [ 39  29]]\n",
      "808          0       150   25ms_from_0_6bins        dart  0.954545  0.790698  [[869   9]\\n [ 34  34]]\n",
      "1443         0       160   20ms_from_0_8bins  logregress  0.954545  0.878788  [[874   4]\\n [ 39  29]]\n",
      "379          0       150   25ms_from_0_6bins      gbtree  0.954545  0.790698  [[869   9]\\n [ 34  34]]\n",
      "375          0       100   25ms_from_0_4bins      gbtree  0.953488  0.852941  [[873   5]\\n [ 39  29]]\n",
      "353          0       140   20ms_from_0_7bins      gbtree  0.953488  0.900000  [[875   3]\\n [ 41  27]]\n",
      "1447         0       200  20ms_from_0_10bins  logregress  0.953488  0.750000  [[866  12]\\n [ 32  36]]\n",
      "782          0       140   20ms_from_0_7bins        dart  0.953488  0.900000  [[875   3]\\n [ 41  27]]\n",
      "804          0       100   25ms_from_0_4bins        dart  0.953488  0.852941  [[873   5]\\n [ 39  29]]\n",
      "810          0       175   25ms_from_0_7bins        dart  0.952431  0.848485  [[873   5]\\n [ 40  28]]\n",
      "1356         0       150  10ms_from_0_15bins  logregress  0.952431  0.780488  [[869   9]\\n [ 36  32]]\n",
      "351          0       120   20ms_from_0_6bins      gbtree  0.952431  0.848485  [[873   5]\\n [ 40  28]]\n",
      "1414         0       195  15ms_from_0_13bins  logregress  0.952431  0.767442  [[868  10]\\n [ 35  33]]\n",
      "780          0       120   20ms_from_0_6bins        dart  0.952431  0.848485  [[873   5]\\n [ 40  28]]\n",
      "1471         0       200   25ms_from_0_8bins  logregress  0.952431  0.755556  [[867  11]\\n [ 34  34]]\n",
      "1485         0       150   30ms_from_0_5bins  logregress  0.952431  0.794872  [[870   8]\\n [ 37  31]]\n",
      "381          0       175   25ms_from_0_7bins      gbtree  0.952431  0.848485  [[873   5]\\n [ 40  28]]\n",
      "1366         0       200  10ms_from_0_20bins  logregress  0.951374  0.761905  [[868  10]\\n [ 36  32]]\n",
      "322          0       165  15ms_from_0_11bins      gbtree  0.951374  0.866667  [[874   4]\\n [ 42  26]]\n",
      "751          0       165  15ms_from_0_11bins        dart  0.951374  0.866667  [[874   4]\\n [ 42  26]]\n"
     ]
    }
   ],
   "source": [
    "exp_label = exp_labels[2]\n",
    "df_all = pd.read_csv(join(figroot, 'confmat_allmethod_avg_multi_ms_tab.csv'))\n",
    "first_only = False\n",
    "print(\"=====================================\"*2)\n",
    "print(exp_label)\n",
    "print(\"First bout only: \", first_only)\n",
    "print(df_all.\\\n",
    "    sort_values(by='acc_test', ascending=False)[\\\n",
    "    [\"time_beg\", \"time_end\", \"data_str\", \"model_str\", \"acc_test\", \"tp_test\", \"cm_test\"]].\\\n",
    "        head(25))"
   ]
  },
  {
   "cell_type": "code",
   "execution_count": 69,
   "metadata": {},
   "outputs": [
    {
     "name": "stdout",
     "output_type": "stream",
     "text": [
      "==========================================================================\n",
      "20220905-Shijia-M010-D38-4-50-L-IRt_g1_XYMatrixForGLM_beforeQC_allLickBouts_5msbin\n",
      "First bout only:  True\n",
      "      time_beg  time_end            data_str model_str  acc_test   tp_test                      cm_test\n",
      "1562         0       175   25ms_from_0_7bins      dart  0.960611  1.000000  [[1188    0]\\n [  49    7]]\n",
      "1332         0       175   25ms_from_0_7bins    gbtree  0.960611  1.000000  [[1188    0]\\n [  49    7]]\n",
      "1292       160       200   20ms_from_8_2bins    gbtree  0.959003  1.000000  [[1188    0]\\n [  51    5]]\n",
      "1307       160       200   20ms_from_8_2bins    gbtree  0.959003  1.000000  [[1188    0]\\n [  51    5]]\n",
      "1609         0       200  200ms_from_0_1bins      dart  0.959003  0.857143  [[1187    1]\\n [  50    6]]\n",
      "1299       160       200   20ms_from_8_2bins    gbtree  0.959003  1.000000  [[1188    0]\\n [  51    5]]\n",
      "1379         0       200  200ms_from_0_1bins    gbtree  0.959003  0.857143  [[1187    1]\\n [  50    6]]\n",
      "1529       160       200   20ms_from_8_2bins      dart  0.959003  1.000000  [[1188    0]\\n [  51    5]]\n",
      "1522       160       200   20ms_from_8_2bins      dart  0.959003  1.000000  [[1188    0]\\n [  51    5]]\n",
      "1537       160       200   20ms_from_8_2bins      dart  0.959003  1.000000  [[1188    0]\\n [  51    5]]\n",
      "1605         0       150   75ms_from_0_2bins      dart  0.958199  0.700000  [[1185    3]\\n [  49    7]]\n",
      "1589         0       120   40ms_from_0_3bins      dart  0.958199  1.000000  [[1188    0]\\n [  52    4]]\n",
      "1502       150       195  15ms_from_10_3bins      dart  0.958199  1.000000  [[1188    0]\\n [  52    4]]\n",
      "1296       180       200   20ms_from_9_1bins    gbtree  0.958199  0.750000  [[1186    2]\\n [  50    6]]\n",
      "1375         0       150   75ms_from_0_2bins    gbtree  0.958199  0.700000  [[1185    3]\\n [  49    7]]\n",
      "1272       150       195  15ms_from_10_3bins    gbtree  0.958199  1.000000  [[1188    0]\\n [  52    4]]\n",
      "1564         0       200   25ms_from_0_8bins      dart  0.958199  1.000000  [[1188    0]\\n [  52    4]]\n",
      "1526       180       200   20ms_from_9_1bins      dart  0.958199  0.750000  [[1186    2]\\n [  50    6]]\n",
      "1359         0       120   40ms_from_0_3bins    gbtree  0.958199  1.000000  [[1188    0]\\n [  52    4]]\n",
      "1334         0       200   25ms_from_0_8bins    gbtree  0.958199  1.000000  [[1188    0]\\n [  52    4]]\n",
      "1309       180       200   20ms_from_9_1bins    gbtree  0.958199  0.750000  [[1186    2]\\n [  50    6]]\n",
      "1539       180       200   20ms_from_9_1bins      dart  0.958199  0.750000  [[1186    2]\\n [  50    6]]\n",
      "1261       150       195  15ms_from_10_3bins    gbtree  0.958199  1.000000  [[1188    0]\\n [  52    4]]\n",
      "1491       150       195  15ms_from_10_3bins      dart  0.958199  1.000000  [[1188    0]\\n [  52    4]]\n",
      "1287       180       200   20ms_from_9_1bins    gbtree  0.958199  0.750000  [[1186    2]\\n [  50    6]]\n",
      "20220905-Shijia-M010-D38-4-50-L-IRt_g1_XYMatrixForGLM_beforeQC_allLickBouts_5msbin\n",
      "First bout only:  False\n",
      "     time_beg  time_end            data_str model_str  acc_test   tp_test                      cm_test\n",
      "660         0       180   30ms_from_0_6bins      dart  0.931672  0.763158  [[1130    9]\\n [  76   29]]\n",
      "671         0       160   40ms_from_0_4bins      dart  0.931672  0.763158  [[1130    9]\\n [  76   29]]\n",
      "430         0       180   30ms_from_0_6bins    gbtree  0.931672  0.763158  [[1130    9]\\n [  76   29]]\n",
      "441         0       160   40ms_from_0_4bins    gbtree  0.931672  0.763158  [[1130    9]\\n [  76   29]]\n",
      "425        90       180   30ms_from_3_3bins    gbtree  0.928457  0.735294  [[1130    9]\\n [  80   25]]\n",
      "655        90       180   30ms_from_3_3bins      dart  0.928457  0.735294  [[1130    9]\\n [  80   25]]\n",
      "685         0       150   75ms_from_0_2bins      dart  0.926849  0.684211  [[1127   12]\\n [  79   26]]\n",
      "455         0       150   75ms_from_0_2bins    gbtree  0.926849  0.684211  [[1127   12]\\n [  79   26]]\n",
      "679       100       200   50ms_from_2_2bins      dart  0.926045  0.651163  [[1124   15]\\n [  77   28]]\n",
      "475       150       160  10ms_from_15_1bins      dart  0.926045  0.740741  [[1132    7]\\n [  85   20]]\n",
      "667        80       160   40ms_from_2_2bins      dart  0.926045  0.675676  [[1127   12]\\n [  80   25]]\n",
      "449       100       200   50ms_from_2_2bins    gbtree  0.926045  0.651163  [[1124   15]\\n [  77   28]]\n",
      "437        80       160   40ms_from_2_2bins    gbtree  0.926045  0.675676  [[1127   12]\\n [  80   25]]\n",
      "632       150       200   25ms_from_6_2bins      dart  0.926045  0.658537  [[1125   14]\\n [  78   27]]\n",
      "635       150       200   25ms_from_6_2bins      dart  0.926045  0.658537  [[1125   14]\\n [  78   27]]\n",
      "641       150       200   25ms_from_6_2bins      dart  0.926045  0.658537  [[1125   14]\\n [  78   27]]\n",
      "411       150       200   25ms_from_6_2bins    gbtree  0.926045  0.658537  [[1125   14]\\n [  78   27]]\n",
      "402       150       200   25ms_from_6_2bins    gbtree  0.926045  0.658537  [[1125   14]\\n [  78   27]]\n",
      "405       150       200   25ms_from_6_2bins    gbtree  0.926045  0.658537  [[1125   14]\\n [  78   27]]\n",
      "245       150       160  10ms_from_15_1bins    gbtree  0.926045  0.740741  [[1132    7]\\n [  85   20]]\n",
      "682         0       200   50ms_from_0_4bins      dart  0.925241  0.611111  [[1118   21]\\n [  72   33]]\n",
      "452         0       200   50ms_from_0_4bins    gbtree  0.925241  0.611111  [[1118   21]\\n [  72   33]]\n",
      "397       150       175   25ms_from_6_1bins    gbtree  0.925241  0.636364  [[1123   16]\\n [  77   28]]\n",
      "404        75       150   25ms_from_3_3bins    gbtree  0.925241  0.666667  [[1127   12]\\n [  81   24]]\n",
      "627       150       175   25ms_from_6_1bins      dart  0.925241  0.636364  [[1123   16]\\n [  77   28]]\n"
     ]
    }
   ],
   "source": [
    "exp_label = exp_labels[3]\n",
    "print(\"=====================================\"*2)\n",
    "df_all = pd.read_csv(join(figroot, exp_label, f'confmat_{exp_label}_allmethod_avg_multi_ms_tab.csv'))\n",
    "for first_only in [True, False]: \n",
    "    print(exp_label)\n",
    "    print(\"First bout only: \", first_only)\n",
    "    print(df_all[df_all.only_firstbout_y==first_only].\\\n",
    "        sort_values(by='acc_test', ascending=False)[\\\n",
    "            [\"time_beg\", \"time_end\", \"data_str\", \"model_str\", \"acc_test\", \"tp_test\", \"cm_test\"]].\\\n",
    "                head(25))"
   ]
  },
  {
   "cell_type": "code",
   "execution_count": 70,
   "metadata": {},
   "outputs": [
    {
     "name": "stdout",
     "output_type": "stream",
     "text": [
      "==========================================================================\n",
      "20220909-Shijia-M012-D42-4-50-L-PCRt_g0_XYMatrixForGLM_beforeQC_allLickBouts_5msbin\n",
      "First bout only:  True\n",
      "      time_beg  time_end             data_str   model_str  acc_test   tp_test                  cm_test\n",
      "1372         0       200    50ms_from_0_4bins      gbtree  0.954980  0.714286  [[685   6]\\n [ 27  15]]\n",
      "1602         0       200    50ms_from_0_4bins        dart  0.954980  0.714286  [[685   6]\\n [ 27  15]]\n",
      "1507         0       195   15ms_from_0_13bins        dart  0.953615  0.785714  [[688   3]\\n [ 31  11]]\n",
      "1229         0       200   10ms_from_0_20bins      gbtree  0.953615  0.785714  [[688   3]\\n [ 31  11]]\n",
      "1459         0       200   10ms_from_0_20bins        dart  0.953615  0.785714  [[688   3]\\n [ 31  11]]\n",
      "1277         0       195   15ms_from_0_13bins      gbtree  0.953615  0.785714  [[688   3]\\n [ 31  11]]\n",
      "1367       150       200    50ms_from_3_1bins      gbtree  0.950887  0.687500  [[686   5]\\n [ 31  11]]\n",
      "1371       150       200    50ms_from_3_1bins      gbtree  0.950887  0.687500  [[686   5]\\n [ 31  11]]\n",
      "1310         0       200   20ms_from_0_10bins      gbtree  0.950887  0.666667  [[685   6]\\n [ 30  12]]\n",
      "1375         0       150    75ms_from_0_2bins      gbtree  0.950887  0.714286  [[687   4]\\n [ 32  10]]\n",
      "1605         0       150    75ms_from_0_2bins        dart  0.950887  0.714286  [[687   4]\\n [ 32  10]]\n",
      "1601       150       200    50ms_from_3_1bins        dart  0.950887  0.687500  [[686   5]\\n [ 31  11]]\n",
      "1540         0       200   20ms_from_0_10bins        dart  0.950887  0.666667  [[685   6]\\n [ 30  12]]\n",
      "1597       150       200    50ms_from_3_1bins        dart  0.950887  0.687500  [[686   5]\\n [ 31  11]]\n",
      "1440       100       200  10ms_from_10_10bins        dart  0.950887  0.687500  [[686   5]\\n [ 31  11]]\n",
      "1210       100       200  10ms_from_10_10bins      gbtree  0.950887  0.687500  [[686   5]\\n [ 31  11]]\n",
      "1265         0       105    15ms_from_0_7bins      gbtree  0.949523  0.692308  [[687   4]\\n [ 33   9]]\n",
      "1503         0       165   15ms_from_0_11bins        dart  0.949523  0.857143  [[690   1]\\n [ 36   6]]\n",
      "1347       120       180    30ms_from_4_2bins      gbtree  0.949523  0.727273  [[688   3]\\n [ 34   8]]\n",
      "1344         0        90    30ms_from_0_3bins      gbtree  0.949523  0.777778  [[689   2]\\n [ 35   7]]\n",
      "1343       120       180    30ms_from_4_2bins      gbtree  0.949523  0.727273  [[688   3]\\n [ 34   8]]\n",
      "1495         0       105    15ms_from_0_7bins        dart  0.949523  0.692308  [[687   4]\\n [ 33   9]]\n",
      "1689         0       200   10ms_from_0_20bins  logregress  0.949523  0.564103  [[674  17]\\n [ 20  22]]\n",
      "1608         0       200   100ms_from_0_2bins        dart  0.949523  0.692308  [[687   4]\\n [ 33   9]]\n",
      "1737         0       195   15ms_from_0_13bins  logregress  0.949523  0.558140  [[672  19]\\n [ 18  24]]\n",
      "20220909-Shijia-M012-D42-4-50-L-PCRt_g0_XYMatrixForGLM_beforeQC_allLickBouts_5msbin\n",
      "First bout only:  False\n",
      "     time_beg  time_end            data_str   model_str  acc_test   tp_test                  cm_test\n",
      "850         0       200  20ms_from_0_10bins  logregress  0.960437  0.758621  [[660  14]\\n [ 15  44]]\n",
      "769         0       200  10ms_from_0_20bins  logregress  0.957708  0.780000  [[663  11]\\n [ 20  39]]\n",
      "814       165       195  15ms_from_11_2bins  logregress  0.957708  0.705882  [[654  20]\\n [ 11  48]]\n",
      "817         0       195  15ms_from_0_13bins  logregress  0.957708  0.759259  [[661  13]\\n [ 18  41]]\n",
      "841       100       200   20ms_from_5_5bins  logregress  0.957708  0.769231  [[662  12]\\n [ 19  40]]\n",
      "874         0       200   25ms_from_0_8bins  logregress  0.957708  0.712121  [[655  19]\\n [ 12  47]]\n",
      "452         0       200   50ms_from_0_4bins      gbtree  0.956344  0.909091  [[671   3]\\n [ 29  30]]\n",
      "752       110       200  10ms_from_11_9bins  logregress  0.956344  0.775510  [[663  11]\\n [ 21  38]]\n",
      "682         0       200   50ms_from_0_4bins        dart  0.956344  0.909091  [[671   3]\\n [ 29  30]]\n",
      "679       100       200   50ms_from_2_2bins        dart  0.956344  0.909091  [[671   3]\\n [ 29  30]]\n",
      "372       160       200   20ms_from_8_2bins      gbtree  0.956344  0.885714  [[670   4]\\n [ 28  31]]\n",
      "379       160       200   20ms_from_8_2bins      gbtree  0.956344  0.885714  [[670   4]\\n [ 28  31]]\n",
      "381       100       200   20ms_from_5_5bins      gbtree  0.956344  0.909091  [[671   3]\\n [ 29  30]]\n",
      "387       160       200   20ms_from_8_2bins      gbtree  0.956344  0.885714  [[670   4]\\n [ 28  31]]\n",
      "449       100       200   50ms_from_2_2bins      gbtree  0.956344  0.909091  [[671   3]\\n [ 29  30]]\n",
      "617       160       200   20ms_from_8_2bins        dart  0.956344  0.885714  [[670   4]\\n [ 28  31]]\n",
      "609       160       200   20ms_from_8_2bins        dart  0.956344  0.885714  [[670   4]\\n [ 28  31]]\n",
      "611       100       200   20ms_from_5_5bins        dart  0.956344  0.909091  [[671   3]\\n [ 29  30]]\n",
      "602       160       200   20ms_from_8_2bins        dart  0.956344  0.885714  [[670   4]\\n [ 28  31]]\n",
      "389       180       200   20ms_from_9_1bins      gbtree  0.954980  0.861111  [[669   5]\\n [ 28  31]]\n",
      "731       160       200  10ms_from_16_4bins  logregress  0.954980  0.716667  [[657  17]\\n [ 16  43]]\n",
      "597       180       200   20ms_from_9_1bins        dart  0.954980  0.861111  [[669   5]\\n [ 28  31]]\n",
      "670       120       200   40ms_from_3_2bins        dart  0.954980  0.825000  [[667   7]\\n [ 26  33]]\n",
      "367       180       200   20ms_from_9_1bins      gbtree  0.954980  0.861111  [[669   5]\\n [ 28  31]]\n",
      "912         0       200   50ms_from_0_4bins  logregress  0.954980  0.691176  [[653  21]\\n [ 12  47]]\n"
     ]
    }
   ],
   "source": [
    "exp_label = exp_labels[4]\n",
    "print(\"=====================================\"*2)\n",
    "df_all = pd.read_csv(join(figroot, exp_label, f'confmat_{exp_label}_allmethod_avg_multi_ms_tab.csv'))\n",
    "for first_only in [True, False]: \n",
    "    print(exp_label)\n",
    "    print(\"First bout only: \", first_only)\n",
    "    print(df_all[df_all.only_firstbout_y==first_only].\\\n",
    "        sort_values(by='acc_test', ascending=False)[\\\n",
    "            [\"time_beg\", \"time_end\", \"data_str\", \"model_str\", \"acc_test\", \"tp_test\", \"cm_test\"]].\\\n",
    "                head(25))"
   ]
  },
  {
   "cell_type": "markdown",
   "metadata": {},
   "source": [
    "### Cortex Recording Session "
   ]
  },
  {
   "cell_type": "code",
   "execution_count": 56,
   "metadata": {},
   "outputs": [
    {
     "name": "stdout",
     "output_type": "stream",
     "text": [
      "==========================================================================\n",
      "20240108_M175_4W50_g0_XYMatrixForGLM_beforeQC_allLickBouts_5msbin\n",
      "First bout only:  True\n",
      "Empty DataFrame\n",
      "Columns: [time_beg, time_end, data_str, model_str, acc_test, tp_test, cm_test]\n",
      "Index: []\n",
      "20240108_M175_4W50_g0_XYMatrixForGLM_beforeQC_allLickBouts_5msbin\n",
      "First bout only:  False\n",
      "     time_beg  time_end            data_str model_str  acc_test   tp_test                  cm_test\n",
      "228         0       200  100ms_from_0_2bins    gbtree  0.895018  0.833333  [[498   1]\\n [ 58   5]]\n",
      "145       120       180   20ms_from_6_3bins    gbtree  0.893238  1.000000  [[499   0]\\n [ 60   3]]\n",
      "110        75       150   15ms_from_5_5bins    gbtree  0.893238  1.000000  [[499   0]\\n [ 60   3]]\n",
      "227       100       200  100ms_from_1_1bins    gbtree  0.891459  0.666667  [[497   2]\\n [ 59   4]]\n",
      "36        180       200  10ms_from_18_2bins    gbtree  0.891459  1.000000  [[499   0]\\n [ 61   2]]\n",
      "73          0       170  10ms_from_0_17bins    gbtree  0.891459  1.000000  [[499   0]\\n [ 61   2]]\n",
      "29        180       200  10ms_from_18_2bins    gbtree  0.891459  1.000000  [[499   0]\\n [ 61   2]]\n",
      "191         0        60   30ms_from_0_2bins    gbtree  0.891459  1.000000  [[499   0]\\n [ 61   2]]\n",
      "76        180       200  10ms_from_18_2bins    gbtree  0.891459  1.000000  [[499   0]\\n [ 61   2]]\n",
      "221       150       200   50ms_from_3_1bins    gbtree  0.891459  0.666667  [[497   2]\\n [ 59   4]]\n",
      "132        80       100   20ms_from_4_1bins    gbtree  0.891459  1.000000  [[499   0]\\n [ 61   2]]\n",
      "69          0       150  10ms_from_0_15bins    gbtree  0.891459  1.000000  [[499   0]\\n [ 61   2]]\n",
      "225         0       150   75ms_from_0_2bins    gbtree  0.891459  1.000000  [[499   0]\\n [ 61   2]]\n",
      "206         0        80   40ms_from_0_2bins    gbtree  0.891459  1.000000  [[499   0]\\n [ 61   2]]\n",
      "217       150       200   50ms_from_3_1bins    gbtree  0.891459  0.666667  [[497   2]\\n [ 59   4]]\n",
      "49        180       200  10ms_from_18_2bins    gbtree  0.891459  1.000000  [[499   0]\\n [ 61   2]]\n",
      "3          30        40   10ms_from_3_1bins    gbtree  0.891459  1.000000  [[499   0]\\n [ 61   2]]\n",
      "58        180       200  10ms_from_18_2bins    gbtree  0.891459  1.000000  [[499   0]\\n [ 61   2]]\n",
      "34        120       150  10ms_from_12_3bins    gbtree  0.889680  1.000000  [[499   0]\\n [ 62   1]]\n",
      "116       105       195   15ms_from_7_6bins    gbtree  0.889680  1.000000  [[499   0]\\n [ 62   1]]\n",
      "57         90       180   10ms_from_9_9bins    gbtree  0.889680  1.000000  [[499   0]\\n [ 62   1]]\n",
      "117         0       120   15ms_from_0_8bins    gbtree  0.889680  1.000000  [[499   0]\\n [ 62   1]]\n",
      "62        110       200  10ms_from_11_9bins    gbtree  0.889680  1.000000  [[499   0]\\n [ 62   1]]\n",
      "189       120       150   30ms_from_4_1bins    gbtree  0.889680  1.000000  [[499   0]\\n [ 62   1]]\n",
      "40        120       160  10ms_from_12_4bins    gbtree  0.889680  1.000000  [[499   0]\\n [ 62   1]]\n"
     ]
    }
   ],
   "source": [
    "for exp_label in exp_labels[-1:]:\n",
    "    print(\"=====================================\"*2)\n",
    "    # print (os.listdir(join(figroot, exp_label)))\n",
    "    csvs = os.listdir(join(figroot, exp_label))\n",
    "    df_all_ctx = []\n",
    "    for csv in csvs:\n",
    "        if 'confmat' in csv:\n",
    "            df_all_ctx.append(pd.read_csv(join(figroot, exp_label, csv)))\n",
    "    df_all_ctx = pd.concat(df_all_ctx, axis=0)\n",
    "    df_all_ctx[\"time_beg\"] = df_all_ctx[\"init_bin\"] * 5 * df_all_ctx[\"avg_bin_num\"]\n",
    "    df_all_ctx[\"time_end\"] = (df_all_ctx[\"init_bin\"] + df_all_ctx[\"bin_num\"]) * 5 * df_all_ctx[\"avg_bin_num\"]\n",
    "    # df_all = pd.read_csv(join(figroot, exp_label, f'confmat_{exp_label}_allmethod_avg_multi_ms_tab.csv'))\n",
    "    for first_only in [True, False]: \n",
    "        print(exp_label)\n",
    "        print(\"First bout only: \", first_only)\n",
    "        print(df_all_ctx[df_all_ctx.only_firstbout_y==first_only].\\\n",
    "            sort_values(by='acc_test', ascending=False)[\\\n",
    "                [\"time_beg\", \"time_end\", \"data_str\", \"model_str\", \"acc_test\", \"tp_test\", \"cm_test\"]].\\\n",
    "                head(25))"
   ]
  },
  {
   "cell_type": "code",
   "execution_count": null,
   "metadata": {},
   "outputs": [],
   "source": []
  },
  {
   "cell_type": "code",
   "execution_count": 39,
   "metadata": {},
   "outputs": [
    {
     "data": {
      "text/plain": [
       "(460, 13)"
      ]
     },
     "execution_count": 39,
     "metadata": {},
     "output_type": "execute_result"
    }
   ],
   "source": [
    "df_all_ctx"
   ]
  },
  {
   "cell_type": "code",
   "execution_count": null,
   "metadata": {},
   "outputs": [],
   "source": []
  }
 ],
 "metadata": {
  "kernelspec": {
   "display_name": "Python (torch)",
   "language": "python",
   "name": "torch"
  }
 },
 "nbformat": 4,
 "nbformat_minor": 2
}
